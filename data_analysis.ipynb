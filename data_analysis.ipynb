{
 "cells": [
  {
   "cell_type": "code",
   "execution_count": null,
   "id": "ce35975d-3e09-4dc6-91bf-686be272937e",
   "metadata": {},
   "outputs": [],
   "source": [
    "import pandas as pd\n",
    "import warnings\n",
    "warnings.filterwarnings(\"ignore\")"
   ]
  },
  {
   "cell_type": "code",
   "execution_count": null,
   "id": "13f2638c-5a84-46c9-a18f-b57a3e7721ff",
   "metadata": {},
   "outputs": [],
   "source": [
    "import re\n",
    "pattern = re.compile(r'\\(?\\b\\d+/\\d+\\b\\)?')\n",
    "def handle_percentage(i):\n",
    "    if '%' in i:    \n",
    "        if i.endswith('%)'):\n",
    "            temp_list=i.split('(')[0].strip().split('/')\n",
    "        else:\n",
    "            if len(pattern.findall(i))>0:        \n",
    "                temp_list=pattern.findall(i)[0].strip('()').split('/')\n",
    "            else:\n",
    "                return None\n",
    "    else:\n",
    "        temp_list=i.strip().split('/')\n",
    "\n",
    "    for t in temp_list:\n",
    "        if not t.isnumeric():\n",
    "            return None\n",
    "\n",
    "    if len(temp_list)==2:\n",
    "        if int(temp_list[0])>int(temp_list[1]):\n",
    "            temp_list[0]=str(int(int(temp_list[0])*int(temp_list[1])/100))\n",
    "     \n",
    "    return temp_list\n",
    "\n",
    "def extract_marker_statistics(data_df, query, topn=5):\n",
    "    temp_df=data_df[['tumor type', 'tumor site', query]].dropna()\n",
    "    try:\n",
    "        temp_df[query]=temp_df[query].str.lower().str.strip()\n",
    "    except:\n",
    "        return {}, []\n",
    "\n",
    "    stats={}\n",
    "    valid_temp=temp_df[~temp_df[query].str.contains('na').fillna(True)]\n",
    "    valid_temp=valid_temp[valid_temp[query].str.contains('/')]\n",
    "    valid_temp[query]=valid_temp[query].apply(handle_percentage)\n",
    "    valid_temp.dropna(inplace=True)\n",
    "    stats['IHC Marker']=query\n",
    "    stats['# abstracts']=len(temp_df.index.unique())\n",
    "    stats['# abstracts w/ IHC positive rates']=len(valid_temp.index.unique())\n",
    "    stats['Total IHC Positives']=valid_temp[query].apply(lambda x: x[0]).astype('float').sum()\n",
    "    stats['Total Cohort Size']=valid_temp[query].apply(lambda x: x[1]).astype('float').sum()\n",
    "    stats['Positive Rates']=stats['Total IHC Positives']/stats['Total Cohort Size']\n",
    "    valid_temp[f'positive']=valid_temp[query].apply(lambda x: x[0]).astype('float')\n",
    "    valid_temp[f'sample_number']=valid_temp[query].apply(lambda x: x[1]).astype('float')\n",
    "\n",
    "    merged_valid_temp=valid_temp[['tumor type', 'tumor site', f'positive', f'sample_number']].groupby('tumor type').sum().sort_values(by=f'sample_number', ascending=False)\n",
    "    merged_valid_temp['positive_rate']=merged_valid_temp[f'positive']/merged_valid_temp[f'sample_number']\n",
    "    print(merged_valid_temp)\n",
    "    detailed=merged_valid_temp.sort_values(by=f'sample_number', ascending=False).head(topn).reset_index().to_dict(orient='records')\n",
    "    result=[]\n",
    "    for temp_dict in detailed:\n",
    "        temp_dict['marker']=query\n",
    "        result.append(temp_dict)\n",
    "    result=pd.DataFrame(result)[['marker','tumor type', 'positive', 'sample_number', 'positive_rate']]\n",
    "    return stats, result"
   ]
  },
  {
   "cell_type": "code",
   "execution_count": null,
   "id": "a05e528a-5276-4b14-acb9-6694edf7a6cb",
   "metadata": {},
   "outputs": [],
   "source": [
    "data_df"
   ]
  },
  {
   "cell_type": "code",
   "execution_count": null,
   "id": "6e713bf2-a088-4f27-a053-2c501fe1c3cf",
   "metadata": {
    "scrolled": true
   },
   "outputs": [],
   "source": [
    "data_df=pd.read_csv('inference_umls_mapped_data.tsv',sep='\\t')\n",
    "column_names=[c for c in data_df.columns if c!='tumor type' and c!='tumor site']"
   ]
  },
  {
   "cell_type": "code",
   "execution_count": null,
   "id": "345b9ef6-01a9-4687-9cb1-d99ab52d341e",
   "metadata": {},
   "outputs": [],
   "source": [
    "query=column_names[0]\n",
    "stats, result=extract_marker_statistics(data_df, query, topn=5)"
   ]
  },
  {
   "cell_type": "code",
   "execution_count": null,
   "id": "d38b4bed-5ea1-4174-a759-f4e413fa120a",
   "metadata": {},
   "outputs": [],
   "source": [
    "print(stats)"
   ]
  },
  {
   "cell_type": "code",
   "execution_count": null,
   "id": "cdecda1b-beef-4b8a-97c6-8c63535ee5dc",
   "metadata": {},
   "outputs": [],
   "source": [
    "result"
   ]
  },
  {
   "cell_type": "code",
   "execution_count": null,
   "id": "56ba257f-6041-4012-9c21-44e05f4a4462",
   "metadata": {},
   "outputs": [],
   "source": []
  }
 ],
 "metadata": {
  "kernelspec": {
   "display_name": "Python 3 (ipykernel)",
   "language": "python",
   "name": "python3"
  },
  "language_info": {
   "codemirror_mode": {
    "name": "ipython",
    "version": 3
   },
   "file_extension": ".py",
   "mimetype": "text/x-python",
   "name": "python",
   "nbconvert_exporter": "python",
   "pygments_lexer": "ipython3",
   "version": "3.10.13"
  }
 },
 "nbformat": 4,
 "nbformat_minor": 5
}
